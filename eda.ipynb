{
 "cells": [
  {
   "cell_type": "markdown",
   "metadata": {},
   "source": [
    "# Load data"
   ]
  },
  {
   "cell_type": "code",
   "execution_count": 1,
   "metadata": {},
   "outputs": [],
   "source": [
    "import pandas as pd\n",
    "import numpy as np\n",
    "import missingno as msno\n",
    "import seaborn as sns\n",
    "import matplotlib as mpl\n",
    "\n",
    "from glob import glob\n",
    "from tqdm import tqdm\n",
    "from matplotlib import pyplot as plt"
   ]
  },
  {
   "cell_type": "markdown",
   "metadata": {},
   "source": [
    "# Configuration"
   ]
  },
  {
   "cell_type": "code",
   "execution_count": 2,
   "metadata": {},
   "outputs": [],
   "source": [
    "# Korean font\n",
    "from matplotlib import font_manager, rc\n",
    "try:\n",
    "    font_path = \"C:/Windows/Fonts/malgun.TTF\"\n",
    "    Kfont = font_manager.FontProperties(fname=font_path).get_name()\n",
    "    rc('font', family=Kfont)\n",
    "except:\n",
    "    pass\n",
    "\n",
    "# Fix minus presentation\n",
    "mpl.rcParams['axes.unicode_minus'] = False"
   ]
  },
  {
   "cell_type": "markdown",
   "metadata": {},
   "source": [
    "# Custom functions"
   ]
  },
  {
   "cell_type": "code",
   "execution_count": 3,
   "metadata": {},
   "outputs": [],
   "source": [
    "def to_datetime_format(df:pd.DataFrame, col_nm:str='ymdhm', as_index=False) -> pd.DataFrame:\n",
    "    df[col_nm] = pd.to_datetime(df[col_nm], infer_datetime_format=True) #format = \"%Y-%m-%d %H%M\")\n",
    "    df = df.sort_values(by=col_nm, ascending=True)\n",
    "    if as_index:\n",
    "        df.set_index(col_nm, inplace=True)\n",
    "    \n",
    "    return df "
   ]
  },
  {
   "cell_type": "markdown",
   "metadata": {},
   "source": [
    "# Load data"
   ]
  },
  {
   "cell_type": "markdown",
   "metadata": {},
   "source": [
    "### Data description\n",
    "Data  \n",
    "\n",
    "├ Water Data\n",
    "\n",
    "│ ├ data_2012.csv\n",
    "\n",
    "│   ├ ymdhm : 년월일시분\n",
    "\n",
    "│   ├ swl : 팔당댐 현재수위 (단위: El.m)\n",
    "\n",
    "│   ├ inf : 팔당댐 유입량 (단위: m^3/s)\n",
    "\n",
    "│   ├ sfw : 팔당댐 저수량 (단위: 만m^3)\n",
    "\n",
    "│   ├ ecpc : 팔당댐 공용량 (단위: 백만m^3)\n",
    "\n",
    "│   ├ tototf : 총 방류량 (단위: m^3/s)\n",
    "\n",
    "│   ├ tide_level : 강화대교 조위 (단위: cm)\n",
    "\n",
    "│   ├ wl_1018662 : 청담대교 수위 (단위: cm)\n",
    "\n",
    "│   ├ fw_1018662 : 청담대교 유량 (단위: m^3/s)\n",
    "\n",
    "│   ├ wl_1018680 : 잠수교 수위 (단위: cm)\n",
    "\n",
    "│   ├ fw_1018680 : 잠수교 유량 (단위: m^3/s)\n",
    "\n",
    "│   ├ wl_1018683 : 한강대교 수위 (단위: cm)\n",
    "\n",
    "│   ├ fw_1018683 : 한강대교 유량 (단위: m^3/s)\n",
    "\n",
    "│   ├ wl_1019630 : 행주대교 수위 (단위: cm)\n",
    "\n",
    "│   └ fw_1019630 : 행주대교 유량 (단위: m^3/s)\n",
    "\n",
    "│ ├ data_2013.csv\n",
    "\n",
    "…\n",
    "\n",
    "└ └ data_2022.csv\n",
    "\n",
    "└ RainFall Data\n",
    "\n",
    "│ ├ rf_2012.csv\n",
    "\n",
    "│   ├ YMDHM : 년월일시분\n",
    "\n",
    "│   ├ rf_10184100 : 대곡교 강수량\n",
    "\n",
    "│   ├ rf_10184110 : 진관교 강수량\n",
    "\n",
    "│   └ rf_10184140 : 송정동 강수량\n",
    "\n",
    "│ ├ rf_2013.csv\n",
    "\n",
    "…\n",
    "\n",
    "└ └ rf_2022.csv"
   ]
  },
  {
   "cell_type": "markdown",
   "metadata": {},
   "source": [
    "### Load sample submission data"
   ]
  },
  {
   "cell_type": "code",
   "execution_count": 4,
   "metadata": {},
   "outputs": [
    {
     "ename": "FileNotFoundError",
     "evalue": "[Errno 2] No such file or directory: 'data/sample_submission.csv'",
     "output_type": "error",
     "traceback": [
      "\u001b[1;31m---------------------------------------------------------------------------\u001b[0m",
      "\u001b[1;31mFileNotFoundError\u001b[0m                         Traceback (most recent call last)",
      "\u001b[1;32mc:\\Users\\82108\\OneDrive\\바탕 화면\\git\\han_river_water_level\\eda.ipynb Cell 10'\u001b[0m in \u001b[0;36m<cell line: 2>\u001b[1;34m()\u001b[0m\n\u001b[0;32m      <a href='vscode-notebook-cell:/c%3A/Users/82108/OneDrive/%EB%B0%94%ED%83%95%20%ED%99%94%EB%A9%B4/git/han_river_water_level/eda.ipynb#ch0000009?line=0'>1</a>\u001b[0m \u001b[39m# Load sample submission data\u001b[39;00m\n\u001b[1;32m----> <a href='vscode-notebook-cell:/c%3A/Users/82108/OneDrive/%EB%B0%94%ED%83%95%20%ED%99%94%EB%A9%B4/git/han_river_water_level/eda.ipynb#ch0000009?line=1'>2</a>\u001b[0m df_smp_subm \u001b[39m=\u001b[39m pd\u001b[39m.\u001b[39;49mread_csv(\u001b[39m'\u001b[39;49m\u001b[39mdata/sample_submission.csv\u001b[39;49m\u001b[39m'\u001b[39;49m)\n\u001b[0;32m      <a href='vscode-notebook-cell:/c%3A/Users/82108/OneDrive/%EB%B0%94%ED%83%95%20%ED%99%94%EB%A9%B4/git/han_river_water_level/eda.ipynb#ch0000009?line=2'>3</a>\u001b[0m df_smp_subm\n\u001b[0;32m      <a href='vscode-notebook-cell:/c%3A/Users/82108/OneDrive/%EB%B0%94%ED%83%95%20%ED%99%94%EB%A9%B4/git/han_river_water_level/eda.ipynb#ch0000009?line=4'>5</a>\u001b[0m \u001b[39m# Get target columns\u001b[39;00m\n",
      "File \u001b[1;32mc:\\Users\\82108\\anaconda3\\envs\\sklearnR\\lib\\site-packages\\pandas\\util\\_decorators.py:311\u001b[0m, in \u001b[0;36mdeprecate_nonkeyword_arguments.<locals>.decorate.<locals>.wrapper\u001b[1;34m(*args, **kwargs)\u001b[0m\n\u001b[0;32m    <a href='file:///c%3A/Users/82108/anaconda3/envs/sklearnR/lib/site-packages/pandas/util/_decorators.py?line=304'>305</a>\u001b[0m \u001b[39mif\u001b[39;00m \u001b[39mlen\u001b[39m(args) \u001b[39m>\u001b[39m num_allow_args:\n\u001b[0;32m    <a href='file:///c%3A/Users/82108/anaconda3/envs/sklearnR/lib/site-packages/pandas/util/_decorators.py?line=305'>306</a>\u001b[0m     warnings\u001b[39m.\u001b[39mwarn(\n\u001b[0;32m    <a href='file:///c%3A/Users/82108/anaconda3/envs/sklearnR/lib/site-packages/pandas/util/_decorators.py?line=306'>307</a>\u001b[0m         msg\u001b[39m.\u001b[39mformat(arguments\u001b[39m=\u001b[39marguments),\n\u001b[0;32m    <a href='file:///c%3A/Users/82108/anaconda3/envs/sklearnR/lib/site-packages/pandas/util/_decorators.py?line=307'>308</a>\u001b[0m         \u001b[39mFutureWarning\u001b[39;00m,\n\u001b[0;32m    <a href='file:///c%3A/Users/82108/anaconda3/envs/sklearnR/lib/site-packages/pandas/util/_decorators.py?line=308'>309</a>\u001b[0m         stacklevel\u001b[39m=\u001b[39mstacklevel,\n\u001b[0;32m    <a href='file:///c%3A/Users/82108/anaconda3/envs/sklearnR/lib/site-packages/pandas/util/_decorators.py?line=309'>310</a>\u001b[0m     )\n\u001b[1;32m--> <a href='file:///c%3A/Users/82108/anaconda3/envs/sklearnR/lib/site-packages/pandas/util/_decorators.py?line=310'>311</a>\u001b[0m \u001b[39mreturn\u001b[39;00m func(\u001b[39m*\u001b[39margs, \u001b[39m*\u001b[39m\u001b[39m*\u001b[39mkwargs)\n",
      "File \u001b[1;32mc:\\Users\\82108\\anaconda3\\envs\\sklearnR\\lib\\site-packages\\pandas\\io\\parsers\\readers.py:680\u001b[0m, in \u001b[0;36mread_csv\u001b[1;34m(filepath_or_buffer, sep, delimiter, header, names, index_col, usecols, squeeze, prefix, mangle_dupe_cols, dtype, engine, converters, true_values, false_values, skipinitialspace, skiprows, skipfooter, nrows, na_values, keep_default_na, na_filter, verbose, skip_blank_lines, parse_dates, infer_datetime_format, keep_date_col, date_parser, dayfirst, cache_dates, iterator, chunksize, compression, thousands, decimal, lineterminator, quotechar, quoting, doublequote, escapechar, comment, encoding, encoding_errors, dialect, error_bad_lines, warn_bad_lines, on_bad_lines, delim_whitespace, low_memory, memory_map, float_precision, storage_options)\u001b[0m\n\u001b[0;32m    <a href='file:///c%3A/Users/82108/anaconda3/envs/sklearnR/lib/site-packages/pandas/io/parsers/readers.py?line=664'>665</a>\u001b[0m kwds_defaults \u001b[39m=\u001b[39m _refine_defaults_read(\n\u001b[0;32m    <a href='file:///c%3A/Users/82108/anaconda3/envs/sklearnR/lib/site-packages/pandas/io/parsers/readers.py?line=665'>666</a>\u001b[0m     dialect,\n\u001b[0;32m    <a href='file:///c%3A/Users/82108/anaconda3/envs/sklearnR/lib/site-packages/pandas/io/parsers/readers.py?line=666'>667</a>\u001b[0m     delimiter,\n\u001b[1;32m   (...)\u001b[0m\n\u001b[0;32m    <a href='file:///c%3A/Users/82108/anaconda3/envs/sklearnR/lib/site-packages/pandas/io/parsers/readers.py?line=675'>676</a>\u001b[0m     defaults\u001b[39m=\u001b[39m{\u001b[39m\"\u001b[39m\u001b[39mdelimiter\u001b[39m\u001b[39m\"\u001b[39m: \u001b[39m\"\u001b[39m\u001b[39m,\u001b[39m\u001b[39m\"\u001b[39m},\n\u001b[0;32m    <a href='file:///c%3A/Users/82108/anaconda3/envs/sklearnR/lib/site-packages/pandas/io/parsers/readers.py?line=676'>677</a>\u001b[0m )\n\u001b[0;32m    <a href='file:///c%3A/Users/82108/anaconda3/envs/sklearnR/lib/site-packages/pandas/io/parsers/readers.py?line=677'>678</a>\u001b[0m kwds\u001b[39m.\u001b[39mupdate(kwds_defaults)\n\u001b[1;32m--> <a href='file:///c%3A/Users/82108/anaconda3/envs/sklearnR/lib/site-packages/pandas/io/parsers/readers.py?line=679'>680</a>\u001b[0m \u001b[39mreturn\u001b[39;00m _read(filepath_or_buffer, kwds)\n",
      "File \u001b[1;32mc:\\Users\\82108\\anaconda3\\envs\\sklearnR\\lib\\site-packages\\pandas\\io\\parsers\\readers.py:575\u001b[0m, in \u001b[0;36m_read\u001b[1;34m(filepath_or_buffer, kwds)\u001b[0m\n\u001b[0;32m    <a href='file:///c%3A/Users/82108/anaconda3/envs/sklearnR/lib/site-packages/pandas/io/parsers/readers.py?line=571'>572</a>\u001b[0m _validate_names(kwds\u001b[39m.\u001b[39mget(\u001b[39m\"\u001b[39m\u001b[39mnames\u001b[39m\u001b[39m\"\u001b[39m, \u001b[39mNone\u001b[39;00m))\n\u001b[0;32m    <a href='file:///c%3A/Users/82108/anaconda3/envs/sklearnR/lib/site-packages/pandas/io/parsers/readers.py?line=573'>574</a>\u001b[0m \u001b[39m# Create the parser.\u001b[39;00m\n\u001b[1;32m--> <a href='file:///c%3A/Users/82108/anaconda3/envs/sklearnR/lib/site-packages/pandas/io/parsers/readers.py?line=574'>575</a>\u001b[0m parser \u001b[39m=\u001b[39m TextFileReader(filepath_or_buffer, \u001b[39m*\u001b[39m\u001b[39m*\u001b[39mkwds)\n\u001b[0;32m    <a href='file:///c%3A/Users/82108/anaconda3/envs/sklearnR/lib/site-packages/pandas/io/parsers/readers.py?line=576'>577</a>\u001b[0m \u001b[39mif\u001b[39;00m chunksize \u001b[39mor\u001b[39;00m iterator:\n\u001b[0;32m    <a href='file:///c%3A/Users/82108/anaconda3/envs/sklearnR/lib/site-packages/pandas/io/parsers/readers.py?line=577'>578</a>\u001b[0m     \u001b[39mreturn\u001b[39;00m parser\n",
      "File \u001b[1;32mc:\\Users\\82108\\anaconda3\\envs\\sklearnR\\lib\\site-packages\\pandas\\io\\parsers\\readers.py:933\u001b[0m, in \u001b[0;36mTextFileReader.__init__\u001b[1;34m(self, f, engine, **kwds)\u001b[0m\n\u001b[0;32m    <a href='file:///c%3A/Users/82108/anaconda3/envs/sklearnR/lib/site-packages/pandas/io/parsers/readers.py?line=929'>930</a>\u001b[0m     \u001b[39mself\u001b[39m\u001b[39m.\u001b[39moptions[\u001b[39m\"\u001b[39m\u001b[39mhas_index_names\u001b[39m\u001b[39m\"\u001b[39m] \u001b[39m=\u001b[39m kwds[\u001b[39m\"\u001b[39m\u001b[39mhas_index_names\u001b[39m\u001b[39m\"\u001b[39m]\n\u001b[0;32m    <a href='file:///c%3A/Users/82108/anaconda3/envs/sklearnR/lib/site-packages/pandas/io/parsers/readers.py?line=931'>932</a>\u001b[0m \u001b[39mself\u001b[39m\u001b[39m.\u001b[39mhandles: IOHandles \u001b[39m|\u001b[39m \u001b[39mNone\u001b[39;00m \u001b[39m=\u001b[39m \u001b[39mNone\u001b[39;00m\n\u001b[1;32m--> <a href='file:///c%3A/Users/82108/anaconda3/envs/sklearnR/lib/site-packages/pandas/io/parsers/readers.py?line=932'>933</a>\u001b[0m \u001b[39mself\u001b[39m\u001b[39m.\u001b[39m_engine \u001b[39m=\u001b[39m \u001b[39mself\u001b[39;49m\u001b[39m.\u001b[39;49m_make_engine(f, \u001b[39mself\u001b[39;49m\u001b[39m.\u001b[39;49mengine)\n",
      "File \u001b[1;32mc:\\Users\\82108\\anaconda3\\envs\\sklearnR\\lib\\site-packages\\pandas\\io\\parsers\\readers.py:1217\u001b[0m, in \u001b[0;36mTextFileReader._make_engine\u001b[1;34m(self, f, engine)\u001b[0m\n\u001b[0;32m   <a href='file:///c%3A/Users/82108/anaconda3/envs/sklearnR/lib/site-packages/pandas/io/parsers/readers.py?line=1212'>1213</a>\u001b[0m     mode \u001b[39m=\u001b[39m \u001b[39m\"\u001b[39m\u001b[39mrb\u001b[39m\u001b[39m\"\u001b[39m\n\u001b[0;32m   <a href='file:///c%3A/Users/82108/anaconda3/envs/sklearnR/lib/site-packages/pandas/io/parsers/readers.py?line=1213'>1214</a>\u001b[0m \u001b[39m# error: No overload variant of \"get_handle\" matches argument types\u001b[39;00m\n\u001b[0;32m   <a href='file:///c%3A/Users/82108/anaconda3/envs/sklearnR/lib/site-packages/pandas/io/parsers/readers.py?line=1214'>1215</a>\u001b[0m \u001b[39m# \"Union[str, PathLike[str], ReadCsvBuffer[bytes], ReadCsvBuffer[str]]\"\u001b[39;00m\n\u001b[0;32m   <a href='file:///c%3A/Users/82108/anaconda3/envs/sklearnR/lib/site-packages/pandas/io/parsers/readers.py?line=1215'>1216</a>\u001b[0m \u001b[39m# , \"str\", \"bool\", \"Any\", \"Any\", \"Any\", \"Any\", \"Any\"\u001b[39;00m\n\u001b[1;32m-> <a href='file:///c%3A/Users/82108/anaconda3/envs/sklearnR/lib/site-packages/pandas/io/parsers/readers.py?line=1216'>1217</a>\u001b[0m \u001b[39mself\u001b[39m\u001b[39m.\u001b[39mhandles \u001b[39m=\u001b[39m get_handle(  \u001b[39m# type: ignore[call-overload]\u001b[39;49;00m\n\u001b[0;32m   <a href='file:///c%3A/Users/82108/anaconda3/envs/sklearnR/lib/site-packages/pandas/io/parsers/readers.py?line=1217'>1218</a>\u001b[0m     f,\n\u001b[0;32m   <a href='file:///c%3A/Users/82108/anaconda3/envs/sklearnR/lib/site-packages/pandas/io/parsers/readers.py?line=1218'>1219</a>\u001b[0m     mode,\n\u001b[0;32m   <a href='file:///c%3A/Users/82108/anaconda3/envs/sklearnR/lib/site-packages/pandas/io/parsers/readers.py?line=1219'>1220</a>\u001b[0m     encoding\u001b[39m=\u001b[39;49m\u001b[39mself\u001b[39;49m\u001b[39m.\u001b[39;49moptions\u001b[39m.\u001b[39;49mget(\u001b[39m\"\u001b[39;49m\u001b[39mencoding\u001b[39;49m\u001b[39m\"\u001b[39;49m, \u001b[39mNone\u001b[39;49;00m),\n\u001b[0;32m   <a href='file:///c%3A/Users/82108/anaconda3/envs/sklearnR/lib/site-packages/pandas/io/parsers/readers.py?line=1220'>1221</a>\u001b[0m     compression\u001b[39m=\u001b[39;49m\u001b[39mself\u001b[39;49m\u001b[39m.\u001b[39;49moptions\u001b[39m.\u001b[39;49mget(\u001b[39m\"\u001b[39;49m\u001b[39mcompression\u001b[39;49m\u001b[39m\"\u001b[39;49m, \u001b[39mNone\u001b[39;49;00m),\n\u001b[0;32m   <a href='file:///c%3A/Users/82108/anaconda3/envs/sklearnR/lib/site-packages/pandas/io/parsers/readers.py?line=1221'>1222</a>\u001b[0m     memory_map\u001b[39m=\u001b[39;49m\u001b[39mself\u001b[39;49m\u001b[39m.\u001b[39;49moptions\u001b[39m.\u001b[39;49mget(\u001b[39m\"\u001b[39;49m\u001b[39mmemory_map\u001b[39;49m\u001b[39m\"\u001b[39;49m, \u001b[39mFalse\u001b[39;49;00m),\n\u001b[0;32m   <a href='file:///c%3A/Users/82108/anaconda3/envs/sklearnR/lib/site-packages/pandas/io/parsers/readers.py?line=1222'>1223</a>\u001b[0m     is_text\u001b[39m=\u001b[39;49mis_text,\n\u001b[0;32m   <a href='file:///c%3A/Users/82108/anaconda3/envs/sklearnR/lib/site-packages/pandas/io/parsers/readers.py?line=1223'>1224</a>\u001b[0m     errors\u001b[39m=\u001b[39;49m\u001b[39mself\u001b[39;49m\u001b[39m.\u001b[39;49moptions\u001b[39m.\u001b[39;49mget(\u001b[39m\"\u001b[39;49m\u001b[39mencoding_errors\u001b[39;49m\u001b[39m\"\u001b[39;49m, \u001b[39m\"\u001b[39;49m\u001b[39mstrict\u001b[39;49m\u001b[39m\"\u001b[39;49m),\n\u001b[0;32m   <a href='file:///c%3A/Users/82108/anaconda3/envs/sklearnR/lib/site-packages/pandas/io/parsers/readers.py?line=1224'>1225</a>\u001b[0m     storage_options\u001b[39m=\u001b[39;49m\u001b[39mself\u001b[39;49m\u001b[39m.\u001b[39;49moptions\u001b[39m.\u001b[39;49mget(\u001b[39m\"\u001b[39;49m\u001b[39mstorage_options\u001b[39;49m\u001b[39m\"\u001b[39;49m, \u001b[39mNone\u001b[39;49;00m),\n\u001b[0;32m   <a href='file:///c%3A/Users/82108/anaconda3/envs/sklearnR/lib/site-packages/pandas/io/parsers/readers.py?line=1225'>1226</a>\u001b[0m )\n\u001b[0;32m   <a href='file:///c%3A/Users/82108/anaconda3/envs/sklearnR/lib/site-packages/pandas/io/parsers/readers.py?line=1226'>1227</a>\u001b[0m \u001b[39massert\u001b[39;00m \u001b[39mself\u001b[39m\u001b[39m.\u001b[39mhandles \u001b[39mis\u001b[39;00m \u001b[39mnot\u001b[39;00m \u001b[39mNone\u001b[39;00m\n\u001b[0;32m   <a href='file:///c%3A/Users/82108/anaconda3/envs/sklearnR/lib/site-packages/pandas/io/parsers/readers.py?line=1227'>1228</a>\u001b[0m f \u001b[39m=\u001b[39m \u001b[39mself\u001b[39m\u001b[39m.\u001b[39mhandles\u001b[39m.\u001b[39mhandle\n",
      "File \u001b[1;32mc:\\Users\\82108\\anaconda3\\envs\\sklearnR\\lib\\site-packages\\pandas\\io\\common.py:789\u001b[0m, in \u001b[0;36mget_handle\u001b[1;34m(path_or_buf, mode, encoding, compression, memory_map, is_text, errors, storage_options)\u001b[0m\n\u001b[0;32m    <a href='file:///c%3A/Users/82108/anaconda3/envs/sklearnR/lib/site-packages/pandas/io/common.py?line=783'>784</a>\u001b[0m \u001b[39melif\u001b[39;00m \u001b[39misinstance\u001b[39m(handle, \u001b[39mstr\u001b[39m):\n\u001b[0;32m    <a href='file:///c%3A/Users/82108/anaconda3/envs/sklearnR/lib/site-packages/pandas/io/common.py?line=784'>785</a>\u001b[0m     \u001b[39m# Check whether the filename is to be opened in binary mode.\u001b[39;00m\n\u001b[0;32m    <a href='file:///c%3A/Users/82108/anaconda3/envs/sklearnR/lib/site-packages/pandas/io/common.py?line=785'>786</a>\u001b[0m     \u001b[39m# Binary mode does not support 'encoding' and 'newline'.\u001b[39;00m\n\u001b[0;32m    <a href='file:///c%3A/Users/82108/anaconda3/envs/sklearnR/lib/site-packages/pandas/io/common.py?line=786'>787</a>\u001b[0m     \u001b[39mif\u001b[39;00m ioargs\u001b[39m.\u001b[39mencoding \u001b[39mand\u001b[39;00m \u001b[39m\"\u001b[39m\u001b[39mb\u001b[39m\u001b[39m\"\u001b[39m \u001b[39mnot\u001b[39;00m \u001b[39min\u001b[39;00m ioargs\u001b[39m.\u001b[39mmode:\n\u001b[0;32m    <a href='file:///c%3A/Users/82108/anaconda3/envs/sklearnR/lib/site-packages/pandas/io/common.py?line=787'>788</a>\u001b[0m         \u001b[39m# Encoding\u001b[39;00m\n\u001b[1;32m--> <a href='file:///c%3A/Users/82108/anaconda3/envs/sklearnR/lib/site-packages/pandas/io/common.py?line=788'>789</a>\u001b[0m         handle \u001b[39m=\u001b[39m \u001b[39mopen\u001b[39;49m(\n\u001b[0;32m    <a href='file:///c%3A/Users/82108/anaconda3/envs/sklearnR/lib/site-packages/pandas/io/common.py?line=789'>790</a>\u001b[0m             handle,\n\u001b[0;32m    <a href='file:///c%3A/Users/82108/anaconda3/envs/sklearnR/lib/site-packages/pandas/io/common.py?line=790'>791</a>\u001b[0m             ioargs\u001b[39m.\u001b[39;49mmode,\n\u001b[0;32m    <a href='file:///c%3A/Users/82108/anaconda3/envs/sklearnR/lib/site-packages/pandas/io/common.py?line=791'>792</a>\u001b[0m             encoding\u001b[39m=\u001b[39;49mioargs\u001b[39m.\u001b[39;49mencoding,\n\u001b[0;32m    <a href='file:///c%3A/Users/82108/anaconda3/envs/sklearnR/lib/site-packages/pandas/io/common.py?line=792'>793</a>\u001b[0m             errors\u001b[39m=\u001b[39;49merrors,\n\u001b[0;32m    <a href='file:///c%3A/Users/82108/anaconda3/envs/sklearnR/lib/site-packages/pandas/io/common.py?line=793'>794</a>\u001b[0m             newline\u001b[39m=\u001b[39;49m\u001b[39m\"\u001b[39;49m\u001b[39m\"\u001b[39;49m,\n\u001b[0;32m    <a href='file:///c%3A/Users/82108/anaconda3/envs/sklearnR/lib/site-packages/pandas/io/common.py?line=794'>795</a>\u001b[0m         )\n\u001b[0;32m    <a href='file:///c%3A/Users/82108/anaconda3/envs/sklearnR/lib/site-packages/pandas/io/common.py?line=795'>796</a>\u001b[0m     \u001b[39melse\u001b[39;00m:\n\u001b[0;32m    <a href='file:///c%3A/Users/82108/anaconda3/envs/sklearnR/lib/site-packages/pandas/io/common.py?line=796'>797</a>\u001b[0m         \u001b[39m# Binary mode\u001b[39;00m\n\u001b[0;32m    <a href='file:///c%3A/Users/82108/anaconda3/envs/sklearnR/lib/site-packages/pandas/io/common.py?line=797'>798</a>\u001b[0m         handle \u001b[39m=\u001b[39m \u001b[39mopen\u001b[39m(handle, ioargs\u001b[39m.\u001b[39mmode)\n",
      "\u001b[1;31mFileNotFoundError\u001b[0m: [Errno 2] No such file or directory: 'data/sample_submission.csv'"
     ]
    }
   ],
   "source": [
    "# Load sample submission data\n",
    "df_smp_subm = pd.read_csv('data/sample_submission.csv')\n",
    "df_smp_subm\n",
    "\n",
    "# Get target columns\n",
    "tgt_col = df_smp_subm.columns[1:]\n",
    "tgt_col"
   ]
  },
  {
   "cell_type": "markdown",
   "metadata": {},
   "source": [
    "### Load water data"
   ]
  },
  {
   "cell_type": "code",
   "execution_count": null,
   "metadata": {},
   "outputs": [],
   "source": [
    "# Get water level data list\n",
    "wl_data_list = sorted(glob(\"data/water_data/*.csv\"))\n",
    "wl_data_list"
   ]
  },
  {
   "cell_type": "code",
   "execution_count": null,
   "metadata": {},
   "outputs": [],
   "source": [
    "# check water level data\n",
    "pd.read_csv(wl_data_list[0]).info()"
   ]
  },
  {
   "cell_type": "code",
   "execution_count": null,
   "metadata": {},
   "outputs": [],
   "source": [
    "# Check most recent water level data\n",
    "pd.read_csv(wl_data_list[-1])"
   ]
  },
  {
   "cell_type": "code",
   "execution_count": null,
   "metadata": {},
   "outputs": [],
   "source": [
    "# Concat whole water level data\n",
    "df_wl_all = pd.concat([to_datetime_format(pd.read_csv(path), as_index=True) for path in wl_data_list], axis=0)"
   ]
  },
  {
   "cell_type": "markdown",
   "metadata": {},
   "source": [
    "### Load rainfall data"
   ]
  },
  {
   "cell_type": "code",
   "execution_count": null,
   "metadata": {},
   "outputs": [],
   "source": [
    "# Get rainfall data list\n",
    "rf_data_list = sorted(glob(\"data/rf_data/*.csv\"))\n",
    "rf_data_list"
   ]
  },
  {
   "cell_type": "code",
   "execution_count": null,
   "metadata": {},
   "outputs": [],
   "source": [
    "# check rainfall data\n",
    "pd.read_csv(rf_data_list[0]).info()"
   ]
  },
  {
   "cell_type": "code",
   "execution_count": null,
   "metadata": {},
   "outputs": [],
   "source": [
    "# Check most recent rainfall data\n",
    "pd.read_csv(rf_data_list[-1])"
   ]
  },
  {
   "cell_type": "code",
   "execution_count": null,
   "metadata": {},
   "outputs": [],
   "source": [
    "# Concat whole rainfall data\n",
    "df_rf_all = pd.concat([to_datetime_format(pd.read_csv(path), as_index=True) for path in rf_data_list], axis=0)"
   ]
  },
  {
   "cell_type": "markdown",
   "metadata": {},
   "source": [
    "# Preprocessing & Visualization"
   ]
  },
  {
   "cell_type": "markdown",
   "metadata": {},
   "source": [
    "### Simple missing check for water level data"
   ]
  },
  {
   "cell_type": "code",
   "execution_count": null,
   "metadata": {},
   "outputs": [],
   "source": [
    "# Replace value from 0 to None in the target columns\n",
    "df_wl_all[tgt_col] = df_wl_all[tgt_col].replace({0:None})\n",
    "\n",
    "# Divide water data by date\n",
    "df_wl = df_wl_all[df_wl_all.index < pd.to_datetime('2022-06-01')]\n",
    "df_wl_fut = df_wl_all[df_wl_all.index >= pd.to_datetime('2022-06-01')]\n",
    "\n",
    "# Get target columns in the train time line\n",
    "df_tgt_past = df_wl[tgt_col]"
   ]
  },
  {
   "cell_type": "code",
   "execution_count": null,
   "metadata": {},
   "outputs": [],
   "source": [
    "# Water level data except test time missing check\n",
    "msno.matrix(df_wl)\n",
    "df_wl.info()"
   ]
  },
  {
   "cell_type": "code",
   "execution_count": null,
   "metadata": {},
   "outputs": [],
   "source": [
    "# Water level future dataset missing check\n",
    "msno.matrix(df_wl_fut)\n",
    "df_wl_fut.info()"
   ]
  },
  {
   "cell_type": "markdown",
   "metadata": {},
   "source": [
    "### Simple missing check for rainfall data"
   ]
  },
  {
   "cell_type": "code",
   "execution_count": null,
   "metadata": {},
   "outputs": [],
   "source": [
    "# Divide rainfall data by date\n",
    "df_rf = df_rf_all[df_rf_all.index < pd.to_datetime('2022-06-01')]\n",
    "df_rf_fut = df_rf_all[df_rf_all.index >= pd.to_datetime('2022-06-01')]"
   ]
  },
  {
   "cell_type": "code",
   "execution_count": null,
   "metadata": {},
   "outputs": [],
   "source": [
    "# Rainfall data except test time missing check\n",
    "msno.matrix(df_rf)\n",
    "df_rf.info()"
   ]
  },
  {
   "cell_type": "code",
   "execution_count": null,
   "metadata": {},
   "outputs": [],
   "source": [
    "# Rainfall future dataset missing check\n",
    "msno.matrix(df_rf_fut)\n",
    "df_rf_fut.info()"
   ]
  },
  {
   "cell_type": "markdown",
   "metadata": {},
   "source": [
    "### Rainfall data analysis"
   ]
  },
  {
   "cell_type": "code",
   "execution_count": null,
   "metadata": {},
   "outputs": [],
   "source": [
    "# plot - total rainfall heatmap\n",
    "fig_tot_rf_heat, ax_tot_rf_heat = plt.subplots(1, 1, figsize=(12, 9))\n",
    "\n",
    "sns.heatmap(\n",
    "    df_rf_all,\n",
    "    cmap='RdBu',\n",
    ")"
   ]
  },
  {
   "cell_type": "code",
   "execution_count": null,
   "metadata": {},
   "outputs": [],
   "source": [
    "# plot - rainfall by lineplot\n",
    "df_rf_all.plot(\n",
    "    kind='line',\n",
    "    subplots=True,\n",
    "    figsize=(20, 12),\n",
    ")"
   ]
  },
  {
   "cell_type": "code",
   "execution_count": null,
   "metadata": {},
   "outputs": [],
   "source": [
    "# Plot - Rain fall in June and July\n",
    "df_rf_june_july = df_rf_all[(df_rf_all.index.month==6) | (df_rf_all.index.month==7)]\n",
    "df_rf_june_july['year'] = df_rf_june_july.index.year\n",
    "df_rf_june_july['month'] = df_rf_june_july.index.month\n",
    "df_rf_june_july.index = np.arange(len(df_rf_june_july.index))\n",
    "df_rf_june_july.groupby(by=['year', 'month']).mean().plot(\n",
    "    kind='barh',\n",
    "    figsize=(10, 10),\n",
    ")"
   ]
  },
  {
   "cell_type": "markdown",
   "metadata": {},
   "source": [
    "### Target analysis"
   ]
  },
  {
   "cell_type": "code",
   "execution_count": null,
   "metadata": {},
   "outputs": [],
   "source": [
    "# Past target total by line plot\n",
    "df_tgt_past.plot(\n",
    "    figsize=(20, 8),\n",
    ")"
   ]
  },
  {
   "cell_type": "code",
   "execution_count": null,
   "metadata": {},
   "outputs": [],
   "source": [
    "# Mean target values by year and month\n",
    "df_tgt_past_june_july = df_tgt_past[(df_tgt_past.index.month==6) | (df_tgt_past.index.month==7)]\n",
    "df_tgt_past_june_july.plot(\n",
    "    kind='line',\n",
    "    figsize=(20, 10),\n",
    ")"
   ]
  },
  {
   "cell_type": "code",
   "execution_count": null,
   "metadata": {},
   "outputs": [],
   "source": [
    "# Mean target values by year and month\n",
    "df_tgt_past_june_july = df_tgt_past[(df_tgt_past.index.month==6) | (df_tgt_past.index.month==7)]\n",
    "df_tgt_past_june_july['year'] = df_tgt_past_june_july.index.year\n",
    "df_tgt_past_june_july['month'] = df_tgt_past_june_july.index.month\n",
    "\n",
    "df_tgt_past_june_july.groupby(['year', 'month']).mean().plot(\n",
    "    kind='line',\n",
    "    figsize=(20, 10),\n",
    ")"
   ]
  },
  {
   "cell_type": "code",
   "execution_count": null,
   "metadata": {},
   "outputs": [],
   "source": [
    "a = df_tgt_past.resample(rule='5D', kind='period').mean()\n",
    "a.plot(figsize=(12, 12))"
   ]
  },
  {
   "cell_type": "markdown",
   "metadata": {},
   "source": [
    "### Simple analysis of columns that are related to paldang dam in water level "
   ]
  },
  {
   "cell_type": "code",
   "execution_count": null,
   "metadata": {},
   "outputs": [],
   "source": [
    "# Select columns in water level data related to paldang dam\n",
    "paldang_cols = df_wl_all.columns[:6]\n",
    "df_wl_pd = df_wl_all[paldang_cols]\n",
    "msno.matrix(df_wl_pd)\n",
    "df_wl_pd.info()"
   ]
  },
  {
   "cell_type": "code",
   "execution_count": null,
   "metadata": {},
   "outputs": [],
   "source": [
    "# plot - simple line of paldang related features\n",
    "df_wl_pd.plot(\n",
    "    kind='line',\n",
    "    figsize=(16, 12),\n",
    "    subplots=True,\n",
    ")"
   ]
  },
  {
   "cell_type": "code",
   "execution_count": null,
   "metadata": {},
   "outputs": [],
   "source": [
    "# plot - line plot of all water level data\n",
    "df_wl_all.plot(\n",
    "    kind='line',\n",
    "    subplots=True,\n",
    "    figsize=(16, 20),\n",
    "    grid=True,\n",
    ")"
   ]
  },
  {
   "cell_type": "markdown",
   "metadata": {},
   "source": [
    "### Analysis water level data of each year seperately "
   ]
  },
  {
   "cell_type": "code",
   "execution_count": null,
   "metadata": {},
   "outputs": [],
   "source": [
    "# Select columns that are closely related to the target columns\n",
    "tgt_rt_col = df_wl_all.columns[-8:]\n",
    "tgt_rt_col"
   ]
  },
  {
   "cell_type": "code",
   "execution_count": null,
   "metadata": {},
   "outputs": [],
   "source": [
    "# Get each water level data seperately\n",
    "df_wl_each = [to_datetime_format(pd.read_csv(path), as_index=True) for path in wl_data_list]\n",
    "wl_data_list"
   ]
  },
  {
   "cell_type": "code",
   "execution_count": null,
   "metadata": {},
   "outputs": [],
   "source": [
    "# plot - line plot and null check for each water level data\n",
    "for yr, df in zip(np.arange(2012, 2023), df_wl_each):\n",
    "    df.plot(\n",
    "        kind='line',\n",
    "        subplots=True,\n",
    "        figsize=(16, 20),\n",
    "        title=yr,\n",
    "    )\n",
    "    msno.matrix(df)\n",
    "    print('\\n', yr, '\\n', (df==0).sum())"
   ]
  },
  {
   "cell_type": "code",
   "execution_count": null,
   "metadata": {},
   "outputs": [],
   "source": [
    "# plot - line plot and null check for columns that are closely related to target columns in water level data\n",
    "for yr, df in zip(np.arange(2012, 2023), df_wl_each):\n",
    "    df = df[tgt_rt_col]\n",
    "    df.plot(\n",
    "        kind='line',\n",
    "        subplots=True,\n",
    "        figsize=(16, 20),\n",
    "        title=yr,\n",
    "    )\n",
    "    msno.matrix(df)\n",
    "    print('\\n', yr, '\\n', (df==0).sum())"
   ]
  },
  {
   "cell_type": "code",
   "execution_count": null,
   "metadata": {},
   "outputs": [],
   "source": [
    "# plot - line plot and null check for columns that are closely related to target columns in water level data\n",
    "# Restrict date from May to July\n",
    "for yr, df in zip(np.arange(2012, 2023), df_wl_each):\n",
    "    df = df[tgt_rt_col]\n",
    "    df = df[(df.index.month==5) | (df.index.month==6) | (df.index.month==7)]\n",
    "    df.plot(\n",
    "        kind='line',\n",
    "        subplots=True,\n",
    "        figsize=(16, 20),\n",
    "        title=yr,\n",
    "    )"
   ]
  }
 ],
 "metadata": {
  "interpreter": {
   "hash": "31dde777464d70dac64bd1bfafa6d235c8a9b747539918258a634df86e98509d"
  },
  "kernelspec": {
   "display_name": "Python 3.9.7 ('sklearnR')",
   "language": "python",
   "name": "python3"
  },
  "language_info": {
   "codemirror_mode": {
    "name": "ipython",
    "version": 3
   },
   "file_extension": ".py",
   "mimetype": "text/x-python",
   "name": "python",
   "nbconvert_exporter": "python",
   "pygments_lexer": "ipython3",
   "version": "3.9.7"
  },
  "orig_nbformat": 4,
  "vscode": {
   "interpreter": {
    "hash": "73018a133296ea3b43268c6794d485d75fb6b0b50601a3344ead11348f70af99"
   }
  }
 },
 "nbformat": 4,
 "nbformat_minor": 2
}
