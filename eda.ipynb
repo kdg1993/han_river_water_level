{
 "cells": [
  {
   "cell_type": "markdown",
   "metadata": {},
   "source": [
    "# Load data"
   ]
  },
  {
   "cell_type": "code",
   "execution_count": null,
   "metadata": {},
   "outputs": [],
   "source": [
    "import pandas as pd\n",
    "import numpy as np\n",
    "import missingno as msno\n",
    "import seaborn as sns\n",
    "import matplotlib as mpl\n",
    "\n",
    "from glob import glob\n",
    "from tqdm import tqdm\n",
    "from matplotlib import pyplot as plt"
   ]
  },
  {
   "cell_type": "markdown",
   "metadata": {},
   "source": [
    "# Configuration"
   ]
  },
  {
   "cell_type": "code",
   "execution_count": null,
   "metadata": {},
   "outputs": [],
   "source": [
    "# Korean font\n",
    "from matplotlib import font_manager, rc\n",
    "try:\n",
    "    font_path = \"C:/Windows/Fonts/malgun.TTF\"\n",
    "    Kfont = font_manager.FontProperties(fname=font_path).get_name()\n",
    "    rc('font', family=Kfont)\n",
    "except:\n",
    "    pass\n",
    "\n",
    "# Fix minus presentation\n",
    "mpl.rcParams['axes.unicode_minus'] = False"
   ]
  },
  {
   "cell_type": "markdown",
   "metadata": {},
   "source": [
    "# Custom functions"
   ]
  },
  {
   "cell_type": "code",
   "execution_count": null,
   "metadata": {},
   "outputs": [],
   "source": [
    "def to_datetime_format(df:pd.DataFrame, col_nm:str='ymdhm', as_index=False) -> pd.DataFrame:\n",
    "    df[col_nm] = pd.to_datetime(df[col_nm], infer_datetime_format=True) #format = \"%Y-%m-%d %H%M\")\n",
    "    df = df.sort_values(by=col_nm, ascending=True)\n",
    "    if as_index:\n",
    "        df.set_index(col_nm, inplace=True)\n",
    "    \n",
    "    return df "
   ]
  },
  {
   "cell_type": "markdown",
   "metadata": {},
   "source": [
    "# Load data"
   ]
  },
  {
   "cell_type": "markdown",
   "metadata": {},
   "source": [
    "### Data description\n",
    "Data  \n",
    "\n",
    "├ Water Data\n",
    "\n",
    "│ ├ data_2012.csv\n",
    "\n",
    "│   ├ ymdhm : 년월일시분\n",
    "\n",
    "│   ├ swl : 팔당댐 현재수위 (단위: El.m)\n",
    "\n",
    "│   ├ inf : 팔당댐 유입량 (단위: m^3/s)\n",
    "\n",
    "│   ├ sfw : 팔당댐 저수량 (단위: 만m^3)\n",
    "\n",
    "│   ├ ecpc : 팔당댐 공용량 (단위: 백만m^3)\n",
    "\n",
    "│   ├ tototf : 총 방류량 (단위: m^3/s)\n",
    "\n",
    "│   ├ tide_level : 강화대교 조위 (단위: cm)\n",
    "\n",
    "│   ├ wl_1018662 : 청담대교 수위 (단위: cm)\n",
    "\n",
    "│   ├ fw_1018662 : 청담대교 유량 (단위: m^3/s)\n",
    "\n",
    "│   ├ wl_1018680 : 잠수교 수위 (단위: cm)\n",
    "\n",
    "│   ├ fw_1018680 : 잠수교 유량 (단위: m^3/s)\n",
    "\n",
    "│   ├ wl_1018683 : 한강대교 수위 (단위: cm)\n",
    "\n",
    "│   ├ fw_1018683 : 한강대교 유량 (단위: m^3/s)\n",
    "\n",
    "│   ├ wl_1019630 : 행주대교 수위 (단위: cm)\n",
    "\n",
    "│   └ fw_1019630 : 행주대교 유량 (단위: m^3/s)\n",
    "\n",
    "│ ├ data_2013.csv\n",
    "\n",
    "…\n",
    "\n",
    "└ └ data_2022.csv\n",
    "\n",
    "└ RainFall Data\n",
    "\n",
    "│ ├ rf_2012.csv\n",
    "\n",
    "│   ├ YMDHM : 년월일시분\n",
    "\n",
    "│   ├ rf_10184100 : 대곡교 강수량\n",
    "\n",
    "│   ├ rf_10184110 : 진관교 강수량\n",
    "\n",
    "│   └ rf_10184140 : 송정동 강수량\n",
    "\n",
    "│ ├ rf_2013.csv\n",
    "\n",
    "…\n",
    "\n",
    "└ └ rf_2022.csv"
   ]
  },
  {
   "cell_type": "markdown",
   "metadata": {},
   "source": [
    "### Load sample submission data"
   ]
  },
  {
   "cell_type": "code",
   "execution_count": null,
   "metadata": {},
   "outputs": [],
   "source": [
    "# Load sample submission data\n",
    "df_smp_subm = pd.read_csv('data/sample_submission.csv')\n",
    "df_smp_subm\n",
    "\n",
    "# Get target columns\n",
    "tgt_col = df_smp_subm.columns[1:]\n",
    "tgt_col"
   ]
  },
  {
   "cell_type": "markdown",
   "metadata": {},
   "source": [
    "### Load water data"
   ]
  },
  {
   "cell_type": "code",
   "execution_count": null,
   "metadata": {},
   "outputs": [],
   "source": [
    "# Get water level data list\n",
    "wl_data_list = sorted(glob(\"data/water_data/*.csv\"))\n",
    "wl_data_list"
   ]
  },
  {
   "cell_type": "code",
   "execution_count": null,
   "metadata": {},
   "outputs": [],
   "source": [
    "# check water level data\n",
    "pd.read_csv(wl_data_list[0]).info()"
   ]
  },
  {
   "cell_type": "code",
   "execution_count": null,
   "metadata": {},
   "outputs": [],
   "source": [
    "# Check most recent water level data\n",
    "pd.read_csv(wl_data_list[-1])"
   ]
  },
  {
   "cell_type": "code",
   "execution_count": null,
   "metadata": {},
   "outputs": [],
   "source": [
    "# Concat whole water level data\n",
    "df_wl_all = pd.concat([to_datetime_format(pd.read_csv(path), as_index=True) for path in wl_data_list], axis=0)"
   ]
  },
  {
   "cell_type": "markdown",
   "metadata": {},
   "source": [
    "### Load rainfall data"
   ]
  },
  {
   "cell_type": "code",
   "execution_count": null,
   "metadata": {},
   "outputs": [],
   "source": [
    "# Get rainfall data list\n",
    "rf_data_list = sorted(glob(\"data/rf_data/*.csv\"))\n",
    "rf_data_list"
   ]
  },
  {
   "cell_type": "code",
   "execution_count": null,
   "metadata": {},
   "outputs": [],
   "source": [
    "# check rainfall data\n",
    "pd.read_csv(rf_data_list[0]).info()"
   ]
  },
  {
   "cell_type": "code",
   "execution_count": null,
   "metadata": {},
   "outputs": [],
   "source": [
    "# Check most recent rainfall data\n",
    "pd.read_csv(rf_data_list[-1])"
   ]
  },
  {
   "cell_type": "code",
   "execution_count": null,
   "metadata": {},
   "outputs": [],
   "source": [
    "# Concat whole rainfall data\n",
    "df_rf_all = pd.concat([to_datetime_format(pd.read_csv(path), as_index=True) for path in rf_data_list], axis=0)"
   ]
  },
  {
   "cell_type": "markdown",
   "metadata": {},
   "source": [
    "# Preprocessing & Visualization"
   ]
  },
  {
   "cell_type": "markdown",
   "metadata": {},
   "source": [
    "### Simple missing check for water level data"
   ]
  },
  {
   "cell_type": "code",
   "execution_count": null,
   "metadata": {},
   "outputs": [],
   "source": [
    "# Replace value from 0 to None in the target columns\n",
    "df_wl_all[tgt_col] = df_wl_all[tgt_col].replace({0:None})\n",
    "\n",
    "# Divide water data by date\n",
    "df_wl = df_wl_all[df_wl_all.index < pd.to_datetime('2022-06-01')]\n",
    "df_wl_fut = df_wl_all[df_wl_all.index >= pd.to_datetime('2022-06-01')]\n",
    "\n",
    "# Get target columns in the train time line\n",
    "df_tgt_past = df_wl[tgt_col]"
   ]
  },
  {
   "cell_type": "code",
   "execution_count": null,
   "metadata": {},
   "outputs": [],
   "source": [
    "# Water level data except test time missing check\n",
    "msno.matrix(df_wl)\n",
    "df_wl.info()"
   ]
  },
  {
   "cell_type": "code",
   "execution_count": null,
   "metadata": {},
   "outputs": [],
   "source": [
    "# Water level future dataset missing check\n",
    "msno.matrix(df_wl_fut)\n",
    "df_wl_fut.info()"
   ]
  },
  {
   "cell_type": "markdown",
   "metadata": {},
   "source": [
    "### Simple missing check for rainfall data"
   ]
  },
  {
   "cell_type": "code",
   "execution_count": null,
   "metadata": {},
   "outputs": [],
   "source": [
    "# Divide rainfall data by date\n",
    "df_rf = df_rf_all[df_rf_all.index < pd.to_datetime('2022-06-01')]\n",
    "df_rf_fut = df_rf_all[df_rf_all.index >= pd.to_datetime('2022-06-01')]"
   ]
  },
  {
   "cell_type": "code",
   "execution_count": null,
   "metadata": {},
   "outputs": [],
   "source": [
    "# Rainfall data except test time missing check\n",
    "msno.matrix(df_rf)\n",
    "df_rf.info()"
   ]
  },
  {
   "cell_type": "code",
   "execution_count": null,
   "metadata": {},
   "outputs": [],
   "source": [
    "# Rainfall future dataset missing check\n",
    "msno.matrix(df_rf_fut)\n",
    "df_rf_fut.info()"
   ]
  },
  {
   "cell_type": "markdown",
   "metadata": {},
   "source": [
    "### Rainfall data analysis"
   ]
  },
  {
   "cell_type": "code",
   "execution_count": null,
   "metadata": {},
   "outputs": [],
   "source": [
    "# plot - total rainfall heatmap\n",
    "fig_tot_rf_heat, ax_tot_rf_heat = plt.subplots(1, 1, figsize=(12, 9))\n",
    "\n",
    "sns.heatmap(\n",
    "    df_rf_all,\n",
    "    cmap='RdBu',\n",
    ")"
   ]
  },
  {
   "cell_type": "code",
   "execution_count": null,
   "metadata": {},
   "outputs": [],
   "source": [
    "# plot - rainfall by lineplot\n",
    "df_rf_all.plot(\n",
    "    kind='line',\n",
    "    subplots=True,\n",
    "    figsize=(20, 12),\n",
    ")"
   ]
  },
  {
   "cell_type": "code",
   "execution_count": null,
   "metadata": {},
   "outputs": [],
   "source": [
    "# Plot - Rain fall in June and July\n",
    "df_rf_june_july = df_rf_all[(df_rf_all.index.month==6) | (df_rf_all.index.month==7)]\n",
    "df_rf_june_july['year'] = df_rf_june_july.index.year\n",
    "df_rf_june_july['month'] = df_rf_june_july.index.month\n",
    "df_rf_june_july.index = np.arange(len(df_rf_june_july.index))\n",
    "df_rf_june_july.groupby(by=['year', 'month']).mean().plot(\n",
    "    kind='barh',\n",
    "    figsize=(10, 10),\n",
    ")"
   ]
  },
  {
   "cell_type": "markdown",
   "metadata": {},
   "source": [
    "### Target analysis"
   ]
  },
  {
   "cell_type": "code",
   "execution_count": null,
   "metadata": {},
   "outputs": [],
   "source": [
    "# Past target total by line plot\n",
    "df_tgt_past.plot(\n",
    "    figsize=(20, 8),\n",
    ")"
   ]
  },
  {
   "cell_type": "code",
   "execution_count": null,
   "metadata": {},
   "outputs": [],
   "source": [
    "# Mean target values by year and month\n",
    "df_tgt_past_june_july = df_tgt_past[(df_tgt_past.index.month==6) | (df_tgt_past.index.month==7)]\n",
    "df_tgt_past_june_july.plot(\n",
    "    kind='line',\n",
    "    figsize=(20, 10),\n",
    ")"
   ]
  },
  {
   "cell_type": "code",
   "execution_count": null,
   "metadata": {},
   "outputs": [],
   "source": [
    "# Mean target values by year and month\n",
    "df_tgt_past_june_july = df_tgt_past[(df_tgt_past.index.month==6) | (df_tgt_past.index.month==7)]\n",
    "df_tgt_past_june_july['year'] = df_tgt_past_june_july.index.year\n",
    "df_tgt_past_june_july['month'] = df_tgt_past_june_july.index.month\n",
    "\n",
    "df_tgt_past_june_july.groupby(['year', 'month']).mean().plot(\n",
    "    kind='line',\n",
    "    figsize=(20, 10),\n",
    ")"
   ]
  },
  {
   "cell_type": "code",
   "execution_count": null,
   "metadata": {},
   "outputs": [],
   "source": [
    "a = df_tgt_past.resample(rule='5D', kind='period').mean()\n",
    "a.plot(figsize=(12, 12))"
   ]
  },
  {
   "cell_type": "markdown",
   "metadata": {},
   "source": [
    "### Simple analysis of columns that are related to paldang dam in water level "
   ]
  },
  {
   "cell_type": "code",
   "execution_count": null,
   "metadata": {},
   "outputs": [],
   "source": [
    "# Select columns in water level data related to paldang dam\n",
    "paldang_cols = df_wl_all.columns[:6]\n",
    "df_wl_pd = df_wl_all[paldang_cols]\n",
    "msno.matrix(df_wl_pd)\n",
    "df_wl_pd.info()"
   ]
  },
  {
   "cell_type": "code",
   "execution_count": null,
   "metadata": {},
   "outputs": [],
   "source": [
    "# plot - simple line of paldang related features\n",
    "df_wl_pd.plot(\n",
    "    kind='line',\n",
    "    figsize=(16, 12),\n",
    "    subplots=True,\n",
    ")"
   ]
  },
  {
   "cell_type": "code",
   "execution_count": null,
   "metadata": {},
   "outputs": [],
   "source": [
    "# plot - line plot of all water level data\n",
    "df_wl_all.plot(\n",
    "    kind='line',\n",
    "    subplots=True,\n",
    "    figsize=(16, 20),\n",
    "    grid=True,\n",
    ")"
   ]
  },
  {
   "cell_type": "markdown",
   "metadata": {},
   "source": [
    "### Analysis water level data of each year seperately "
   ]
  },
  {
   "cell_type": "code",
   "execution_count": null,
   "metadata": {},
   "outputs": [],
   "source": [
    "# Select columns that are closely related to the target columns\n",
    "tgt_rt_col = df_wl_all.columns[-8:]\n",
    "tgt_rt_col"
   ]
  },
  {
   "cell_type": "code",
   "execution_count": null,
   "metadata": {},
   "outputs": [],
   "source": [
    "# Get each water level data seperately\n",
    "df_wl_each = [to_datetime_format(pd.read_csv(path), as_index=True) for path in wl_data_list]\n",
    "wl_data_list"
   ]
  },
  {
   "cell_type": "code",
   "execution_count": null,
   "metadata": {},
   "outputs": [],
   "source": [
    "# plot - line plot and null check for each water level data\n",
    "for yr, df in zip(np.arange(2012, 2023), df_wl_each):\n",
    "    df.plot(\n",
    "        kind='line',\n",
    "        subplots=True,\n",
    "        figsize=(16, 20),\n",
    "        title=yr,\n",
    "    )\n",
    "    msno.matrix(df)\n",
    "    print('\\n', yr, '\\n', (df==0).sum())"
   ]
  },
  {
   "cell_type": "code",
   "execution_count": null,
   "metadata": {},
   "outputs": [],
   "source": [
    "# plot - line plot and null check for columns that are closely related to target columns in water level data\n",
    "for yr, df in zip(np.arange(2012, 2023), df_wl_each):\n",
    "    df = df[tgt_rt_col]\n",
    "    df.plot(\n",
    "        kind='line',\n",
    "        subplots=True,\n",
    "        figsize=(16, 20),\n",
    "        title=yr,\n",
    "    )\n",
    "    msno.matrix(df)\n",
    "    print('\\n', yr, '\\n', (df==0).sum())"
   ]
  },
  {
   "cell_type": "code",
   "execution_count": null,
   "metadata": {},
   "outputs": [],
   "source": [
    "# plot - line plot and null check for columns that are closely related to target columns in water level data\n",
    "# Restrict date from May to July\n",
    "for yr, df in zip(np.arange(2012, 2023), df_wl_each):\n",
    "    df = df[tgt_rt_col]\n",
    "    df = df[(df.index.month==5) | (df.index.month==6) | (df.index.month==7)]\n",
    "    df.plot(\n",
    "        kind='line',\n",
    "        subplots=True,\n",
    "        figsize=(16, 20),\n",
    "        title=yr,\n",
    "    )"
   ]
  }
 ],
 "metadata": {
  "kernelspec": {
   "display_name": "Python 3.8.13 ('river')",
   "language": "python",
   "name": "python3"
  },
  "language_info": {
   "codemirror_mode": {
    "name": "ipython",
    "version": 3
   },
   "file_extension": ".py",
   "mimetype": "text/x-python",
   "name": "python",
   "nbconvert_exporter": "python",
   "pygments_lexer": "ipython3",
   "version": "3.8.13"
  },
  "orig_nbformat": 4,
  "vscode": {
   "interpreter": {
    "hash": "73018a133296ea3b43268c6794d485d75fb6b0b50601a3344ead11348f70af99"
   }
  }
 },
 "nbformat": 4,
 "nbformat_minor": 2
}
