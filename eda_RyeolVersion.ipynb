{
 "cells": [
  {
   "cell_type": "markdown",
   "metadata": {},
   "source": [
    "# Load data"
   ]
  },
  {
   "cell_type": "markdown",
   "metadata": {},
   "source": [
    "#### Python_Kernel -> sklearnR (Python ver 3.9.7)\n",
    "#### check_point -> 2022-07-28 21:47"
   ]
  },
  {
   "cell_type": "code",
   "execution_count": 1,
   "metadata": {},
   "outputs": [
    {
     "ename": "ModuleNotFoundError",
     "evalue": "No module named 'missingno'",
     "output_type": "error",
     "traceback": [
      "\u001b[1;31m---------------------------------------------------------------------------\u001b[0m",
      "\u001b[1;31mModuleNotFoundError\u001b[0m                       Traceback (most recent call last)",
      "\u001b[1;32m<ipython-input-1-6fda3324a73c>\u001b[0m in \u001b[0;36m<module>\u001b[1;34m\u001b[0m\n\u001b[0;32m      1\u001b[0m \u001b[1;32mimport\u001b[0m \u001b[0mpandas\u001b[0m \u001b[1;32mas\u001b[0m \u001b[0mpd\u001b[0m\u001b[1;33m\u001b[0m\u001b[1;33m\u001b[0m\u001b[0m\n\u001b[0;32m      2\u001b[0m \u001b[1;32mimport\u001b[0m \u001b[0mnumpy\u001b[0m \u001b[1;32mas\u001b[0m \u001b[0mnp\u001b[0m\u001b[1;33m\u001b[0m\u001b[1;33m\u001b[0m\u001b[0m\n\u001b[1;32m----> 3\u001b[1;33m \u001b[1;32mimport\u001b[0m \u001b[0mmissingno\u001b[0m \u001b[1;32mas\u001b[0m \u001b[0mmsno\u001b[0m\u001b[1;33m\u001b[0m\u001b[1;33m\u001b[0m\u001b[0m\n\u001b[0m\u001b[0;32m      4\u001b[0m \u001b[1;32mimport\u001b[0m \u001b[0mseaborn\u001b[0m \u001b[1;32mas\u001b[0m \u001b[0msns\u001b[0m\u001b[1;33m\u001b[0m\u001b[1;33m\u001b[0m\u001b[0m\n\u001b[0;32m      5\u001b[0m \u001b[1;32mimport\u001b[0m \u001b[0mmatplotlib\u001b[0m \u001b[1;32mas\u001b[0m \u001b[0mmpl\u001b[0m\u001b[1;33m\u001b[0m\u001b[1;33m\u001b[0m\u001b[0m\n",
      "\u001b[1;31mModuleNotFoundError\u001b[0m: No module named 'missingno'"
     ]
    }
   ],
   "source": [
    "import pandas as pd\n",
    "import numpy as np\n",
    "import missingno as msno\n",
    "import seaborn as sns\n",
    "import matplotlib as mpl\n",
    "\n",
    "from glob import glob\n",
    "from tqdm import tqdm\n",
    "from matplotlib import pyplot as plt"
   ]
  },
  {
   "cell_type": "markdown",
   "metadata": {},
   "source": [
    "# Configuration"
   ]
  },
  {
   "cell_type": "code",
   "execution_count": 2,
   "metadata": {},
   "outputs": [
    {
     "ename": "NameError",
     "evalue": "name 'mpl' is not defined",
     "output_type": "error",
     "traceback": [
      "\u001b[1;31m---------------------------------------------------------------------------\u001b[0m",
      "\u001b[1;31mNameError\u001b[0m                                 Traceback (most recent call last)",
      "\u001b[1;32m<ipython-input-2-bbe002539351>\u001b[0m in \u001b[0;36m<module>\u001b[1;34m\u001b[0m\n\u001b[0;32m      9\u001b[0m \u001b[1;33m\u001b[0m\u001b[0m\n\u001b[0;32m     10\u001b[0m \u001b[1;31m# Fix minus presentation\u001b[0m\u001b[1;33m\u001b[0m\u001b[1;33m\u001b[0m\u001b[1;33m\u001b[0m\u001b[0m\n\u001b[1;32m---> 11\u001b[1;33m \u001b[0mmpl\u001b[0m\u001b[1;33m.\u001b[0m\u001b[0mrcParams\u001b[0m\u001b[1;33m[\u001b[0m\u001b[1;34m'axes.unicode_minus'\u001b[0m\u001b[1;33m]\u001b[0m \u001b[1;33m=\u001b[0m \u001b[1;32mFalse\u001b[0m\u001b[1;33m\u001b[0m\u001b[1;33m\u001b[0m\u001b[0m\n\u001b[0m",
      "\u001b[1;31mNameError\u001b[0m: name 'mpl' is not defined"
     ]
    }
   ],
   "source": [
    "# Korean font\n",
    "from matplotlib import font_manager, rc\n",
    "try:\n",
    "    font_path = \"C:/Windows/Fonts/malgun.TTF\"\n",
    "    Kfont = font_manager.FontProperties(fname=font_path).get_name()\n",
    "    rc('font', family=Kfont)\n",
    "except:\n",
    "    pass\n",
    "\n",
    "# Fix minus presentation\n",
    "mpl.rcParams['axes.unicode_minus'] = False"
   ]
  },
  {
   "cell_type": "markdown",
   "metadata": {},
   "source": [
    "# Custom functions"
   ]
  },
  {
   "cell_type": "code",
   "execution_count": null,
   "metadata": {},
   "outputs": [],
   "source": [
    "def to_datetime_format(df:pd.DataFrame, col_nm:str='ymdhm', as_index=False) -> pd.DataFrame:\n",
    "    df[col_nm] = pd.to_datetime(df[col_nm], infer_datetime_format=True) #format = \"%Y-%m-%d %H%M\")\n",
    "    df = df.sort_values(by=col_nm, ascending=True)\n",
    "    if as_index:\n",
    "        df.set_index(col_nm, inplace=True)\n",
    "    \n",
    "    return df "
   ]
  },
  {
   "cell_type": "markdown",
   "metadata": {},
   "source": [
    "# Load data"
   ]
  },
  {
   "cell_type": "markdown",
   "metadata": {},
   "source": [
    "### Data description\n",
    "Data  \n",
    "\n",
    "├ Water Data\n",
    "\n",
    "│ ├ data_2012.csv\n",
    "\n",
    "│   ├ ymdhm : 년월일시분\n",
    "\n",
    "│   ├ swl : 팔당댐 현재수위 (단위: El.m)\n",
    "\n",
    "│   ├ inf : 팔당댐 유입량 (단위: m^3/s)\n",
    "\n",
    "│   ├ sfw : 팔당댐 저수량 (단위: 만m^3)\n",
    "\n",
    "│   ├ ecpc : 팔당댐 공용량 (단위: 백만m^3)\n",
    "\n",
    "│   ├ tototf : 총 방류량 (단위: m^3/s)\n",
    "\n",
    "│   ├ tide_level : 강화대교 조위 (단위: cm)\n",
    "\n",
    "│   ├ wl_1018662 : 청담대교 수위 (단위: cm)\n",
    "\n",
    "│   ├ fw_1018662 : 청담대교 유량 (단위: m^3/s)\n",
    "\n",
    "│   ├ wl_1018680 : 잠수교 수위 (단위: cm)\n",
    "\n",
    "│   ├ fw_1018680 : 잠수교 유량 (단위: m^3/s)\n",
    "\n",
    "│   ├ wl_1018683 : 한강대교 수위 (단위: cm)\n",
    "\n",
    "│   ├ fw_1018683 : 한강대교 유량 (단위: m^3/s)\n",
    "\n",
    "│   ├ wl_1019630 : 행주대교 수위 (단위: cm)\n",
    "\n",
    "│   └ fw_1019630 : 행주대교 유량 (단위: m^3/s)\n",
    "\n",
    "│ ├ data_2013.csv\n",
    "\n",
    "…\n",
    "\n",
    "└ └ data_2022.csv\n",
    "\n",
    "└ RainFall Data\n",
    "\n",
    "│ ├ rf_2012.csv\n",
    "\n",
    "│   ├ YMDHM : 년월일시분\n",
    "\n",
    "│   ├ rf_10184100 : 대곡교 강수량\n",
    "\n",
    "│   ├ rf_10184110 : 진관교 강수량\n",
    "\n",
    "│   └ rf_10184140 : 송정동 강수량\n",
    "\n",
    "│ ├ rf_2013.csv\n",
    "\n",
    "…\n",
    "\n",
    "└ └ rf_2022.csv"
   ]
  },
  {
   "cell_type": "markdown",
   "metadata": {},
   "source": [
    "### Load sample submission data"
   ]
  },
  {
   "cell_type": "code",
   "execution_count": null,
   "metadata": {},
   "outputs": [],
   "source": [
    "# Load sample submission data\n",
    "df_smp_subm = pd.read_csv('C:/Everydata/competition_data/sample_submission.csv')\n",
    "df_smp_subm\n",
    "\n",
    "# Get target columns\n",
    "tgt_col = df_smp_subm.columns[1:]"
   ]
  },
  {
   "cell_type": "markdown",
   "metadata": {},
   "source": [
    "### Load water data"
   ]
  },
  {
   "cell_type": "code",
   "execution_count": null,
   "metadata": {},
   "outputs": [
    {
     "data": {
      "text/plain": [
       "['C:/Everydata/competition_data/water_data\\\\data_2012.csv',\n",
       " 'C:/Everydata/competition_data/water_data\\\\data_2013.csv',\n",
       " 'C:/Everydata/competition_data/water_data\\\\data_2014.csv',\n",
       " 'C:/Everydata/competition_data/water_data\\\\data_2015.csv',\n",
       " 'C:/Everydata/competition_data/water_data\\\\data_2016.csv',\n",
       " 'C:/Everydata/competition_data/water_data\\\\data_2017.csv',\n",
       " 'C:/Everydata/competition_data/water_data\\\\data_2018.csv',\n",
       " 'C:/Everydata/competition_data/water_data\\\\data_2019.csv',\n",
       " 'C:/Everydata/competition_data/water_data\\\\data_2020.csv',\n",
       " 'C:/Everydata/competition_data/water_data\\\\data_2021.csv',\n",
       " 'C:/Everydata/competition_data/water_data\\\\data_2022.csv']"
      ]
     },
     "metadata": {},
     "output_type": "display_data"
    }
   ],
   "source": [
    "# Get water level data list\n",
    "wl_data_list = sorted(glob(\"C:/Everydata/competition_data/water_data/*.csv\"))\n",
    "wl_data_list"
   ]
  },
  {
   "cell_type": "code",
   "execution_count": null,
   "metadata": {},
   "outputs": [
    {
     "name": "stdout",
     "output_type": "stream",
     "text": [
      "<class 'pandas.core.frame.DataFrame'>\n",
      "RangeIndex: 26496 entries, 0 to 26495\n",
      "Data columns (total 15 columns):\n",
      " #   Column      Non-Null Count  Dtype  \n",
      "---  ------      --------------  -----  \n",
      " 0   ymdhm       26496 non-null  object \n",
      " 1   swl         26495 non-null  float64\n",
      " 2   inf         26495 non-null  float64\n",
      " 3   sfw         26495 non-null  float64\n",
      " 4   ecpc        26495 non-null  float64\n",
      " 5   tototf      26495 non-null  float64\n",
      " 6   tide_level  25720 non-null  float64\n",
      " 7   wl_1018662  26496 non-null  float64\n",
      " 8   fw_1018662  26496 non-null  float64\n",
      " 9   wl_1018680  26496 non-null  float64\n",
      " 10  fw_1018680  26496 non-null  float64\n",
      " 11  wl_1018683  26496 non-null  float64\n",
      " 12  fw_1018683  26496 non-null  float64\n",
      " 13  wl_1019630  26496 non-null  float64\n",
      " 14  fw_1019630  26496 non-null  float64\n",
      "dtypes: float64(14), object(1)\n",
      "memory usage: 3.0+ MB\n"
     ]
    }
   ],
   "source": [
    "# check water level data\n",
    "pd.read_csv(wl_data_list[0]).info()"
   ]
  },
  {
   "cell_type": "code",
   "execution_count": null,
   "metadata": {},
   "outputs": [
    {
     "data": {
      "text/html": [
       "<div>\n",
       "<style scoped>\n",
       "    .dataframe tbody tr th:only-of-type {\n",
       "        vertical-align: middle;\n",
       "    }\n",
       "\n",
       "    .dataframe tbody tr th {\n",
       "        vertical-align: top;\n",
       "    }\n",
       "\n",
       "    .dataframe thead th {\n",
       "        text-align: right;\n",
       "    }\n",
       "</style>\n",
       "<table border=\"1\" class=\"dataframe\">\n",
       "  <thead>\n",
       "    <tr style=\"text-align: right;\">\n",
       "      <th></th>\n",
       "      <th>ymdhm</th>\n",
       "      <th>swl</th>\n",
       "      <th>inf</th>\n",
       "      <th>sfw</th>\n",
       "      <th>ecpc</th>\n",
       "      <th>tototf</th>\n",
       "      <th>tide_level</th>\n",
       "      <th>wl_1018662</th>\n",
       "      <th>fw_1018662</th>\n",
       "      <th>wl_1018680</th>\n",
       "      <th>fw_1018680</th>\n",
       "      <th>wl_1018683</th>\n",
       "      <th>fw_1018683</th>\n",
       "      <th>wl_1019630</th>\n",
       "      <th>fw_1019630</th>\n",
       "    </tr>\n",
       "  </thead>\n",
       "  <tbody>\n",
       "    <tr>\n",
       "      <th>0</th>\n",
       "      <td>2022-05-01 00:00</td>\n",
       "      <td>25.20</td>\n",
       "      <td>739.36</td>\n",
       "      <td>218.73</td>\n",
       "      <td>25.27</td>\n",
       "      <td>124.36</td>\n",
       "      <td>81.0</td>\n",
       "      <td>290.7</td>\n",
       "      <td>337.64</td>\n",
       "      <td>284.2</td>\n",
       "      <td>NaN</td>\n",
       "      <td>279.0</td>\n",
       "      <td>0.00</td>\n",
       "      <td>269.3</td>\n",
       "      <td>471.08</td>\n",
       "    </tr>\n",
       "    <tr>\n",
       "      <th>1</th>\n",
       "      <td>2022-05-01 00:10</td>\n",
       "      <td>25.20</td>\n",
       "      <td>124.48</td>\n",
       "      <td>218.73</td>\n",
       "      <td>25.27</td>\n",
       "      <td>124.48</td>\n",
       "      <td>72.0</td>\n",
       "      <td>291.7</td>\n",
       "      <td>343.69</td>\n",
       "      <td>284.2</td>\n",
       "      <td>NaN</td>\n",
       "      <td>279.0</td>\n",
       "      <td>145.14</td>\n",
       "      <td>266.3</td>\n",
       "      <td>438.33</td>\n",
       "    </tr>\n",
       "    <tr>\n",
       "      <th>2</th>\n",
       "      <td>2022-05-01 00:20</td>\n",
       "      <td>25.20</td>\n",
       "      <td>124.20</td>\n",
       "      <td>218.73</td>\n",
       "      <td>25.27</td>\n",
       "      <td>124.20</td>\n",
       "      <td>64.0</td>\n",
       "      <td>290.7</td>\n",
       "      <td>337.64</td>\n",
       "      <td>284.2</td>\n",
       "      <td>NaN</td>\n",
       "      <td>279.0</td>\n",
       "      <td>232.22</td>\n",
       "      <td>264.3</td>\n",
       "      <td>417.17</td>\n",
       "    </tr>\n",
       "    <tr>\n",
       "      <th>3</th>\n",
       "      <td>2022-05-01 00:30</td>\n",
       "      <td>25.20</td>\n",
       "      <td>124.35</td>\n",
       "      <td>218.73</td>\n",
       "      <td>25.27</td>\n",
       "      <td>124.35</td>\n",
       "      <td>58.0</td>\n",
       "      <td>289.7</td>\n",
       "      <td>331.65</td>\n",
       "      <td>284.2</td>\n",
       "      <td>NaN</td>\n",
       "      <td>279.0</td>\n",
       "      <td>302.71</td>\n",
       "      <td>263.3</td>\n",
       "      <td>406.79</td>\n",
       "    </tr>\n",
       "    <tr>\n",
       "      <th>4</th>\n",
       "      <td>2022-05-01 00:40</td>\n",
       "      <td>25.19</td>\n",
       "      <td>0.00</td>\n",
       "      <td>218.36</td>\n",
       "      <td>25.64</td>\n",
       "      <td>124.42</td>\n",
       "      <td>58.0</td>\n",
       "      <td>287.7</td>\n",
       "      <td>319.84</td>\n",
       "      <td>284.2</td>\n",
       "      <td>NaN</td>\n",
       "      <td>279.0</td>\n",
       "      <td>340.03</td>\n",
       "      <td>264.3</td>\n",
       "      <td>417.17</td>\n",
       "    </tr>\n",
       "    <tr>\n",
       "      <th>...</th>\n",
       "      <td>...</td>\n",
       "      <td>...</td>\n",
       "      <td>...</td>\n",
       "      <td>...</td>\n",
       "      <td>...</td>\n",
       "      <td>...</td>\n",
       "      <td>...</td>\n",
       "      <td>...</td>\n",
       "      <td>...</td>\n",
       "      <td>...</td>\n",
       "      <td>...</td>\n",
       "      <td>...</td>\n",
       "      <td>...</td>\n",
       "      <td>...</td>\n",
       "      <td>...</td>\n",
       "    </tr>\n",
       "    <tr>\n",
       "      <th>11371</th>\n",
       "      <td>2022-07-18 23:10</td>\n",
       "      <td>25.04</td>\n",
       "      <td>259.23</td>\n",
       "      <td>212.86</td>\n",
       "      <td>31.14</td>\n",
       "      <td>259.23</td>\n",
       "      <td>510.0</td>\n",
       "      <td>0.0</td>\n",
       "      <td>319.84</td>\n",
       "      <td>0.0</td>\n",
       "      <td>NaN</td>\n",
       "      <td>0.0</td>\n",
       "      <td>-456.41</td>\n",
       "      <td>0.0</td>\n",
       "      <td>974.40</td>\n",
       "    </tr>\n",
       "    <tr>\n",
       "      <th>11372</th>\n",
       "      <td>2022-07-18 23:20</td>\n",
       "      <td>25.04</td>\n",
       "      <td>260.46</td>\n",
       "      <td>212.86</td>\n",
       "      <td>31.14</td>\n",
       "      <td>260.46</td>\n",
       "      <td>492.0</td>\n",
       "      <td>0.0</td>\n",
       "      <td>314.01</td>\n",
       "      <td>0.0</td>\n",
       "      <td>NaN</td>\n",
       "      <td>0.0</td>\n",
       "      <td>-717.30</td>\n",
       "      <td>0.0</td>\n",
       "      <td>1006.88</td>\n",
       "    </tr>\n",
       "    <tr>\n",
       "      <th>11373</th>\n",
       "      <td>2022-07-18 23:30</td>\n",
       "      <td>25.04</td>\n",
       "      <td>259.37</td>\n",
       "      <td>212.86</td>\n",
       "      <td>31.14</td>\n",
       "      <td>259.37</td>\n",
       "      <td>475.0</td>\n",
       "      <td>0.0</td>\n",
       "      <td>387.55</td>\n",
       "      <td>0.0</td>\n",
       "      <td>NaN</td>\n",
       "      <td>0.0</td>\n",
       "      <td>-843.37</td>\n",
       "      <td>0.0</td>\n",
       "      <td>1039.90</td>\n",
       "    </tr>\n",
       "    <tr>\n",
       "      <th>11374</th>\n",
       "      <td>2022-07-18 23:40</td>\n",
       "      <td>25.04</td>\n",
       "      <td>259.13</td>\n",
       "      <td>212.86</td>\n",
       "      <td>31.14</td>\n",
       "      <td>259.13</td>\n",
       "      <td>458.0</td>\n",
       "      <td>0.0</td>\n",
       "      <td>454.91</td>\n",
       "      <td>0.0</td>\n",
       "      <td>NaN</td>\n",
       "      <td>0.0</td>\n",
       "      <td>-1023.37</td>\n",
       "      <td>0.0</td>\n",
       "      <td>1073.46</td>\n",
       "    </tr>\n",
       "    <tr>\n",
       "      <th>11375</th>\n",
       "      <td>2022-07-18 23:50</td>\n",
       "      <td>25.04</td>\n",
       "      <td>258.16</td>\n",
       "      <td>212.86</td>\n",
       "      <td>31.14</td>\n",
       "      <td>258.16</td>\n",
       "      <td>442.0</td>\n",
       "      <td>0.0</td>\n",
       "      <td>582.21</td>\n",
       "      <td>0.0</td>\n",
       "      <td>NaN</td>\n",
       "      <td>0.0</td>\n",
       "      <td>-1049.44</td>\n",
       "      <td>0.0</td>\n",
       "      <td>1090.45</td>\n",
       "    </tr>\n",
       "  </tbody>\n",
       "</table>\n",
       "<p>11376 rows × 15 columns</p>\n",
       "</div>"
      ],
      "text/plain": [
       "                  ymdhm    swl     inf     sfw   ecpc  tototf  tide_level  \\\n",
       "0      2022-05-01 00:00  25.20  739.36  218.73  25.27  124.36        81.0   \n",
       "1      2022-05-01 00:10  25.20  124.48  218.73  25.27  124.48        72.0   \n",
       "2      2022-05-01 00:20  25.20  124.20  218.73  25.27  124.20        64.0   \n",
       "3      2022-05-01 00:30  25.20  124.35  218.73  25.27  124.35        58.0   \n",
       "4      2022-05-01 00:40  25.19    0.00  218.36  25.64  124.42        58.0   \n",
       "...                 ...    ...     ...     ...    ...     ...         ...   \n",
       "11371  2022-07-18 23:10  25.04  259.23  212.86  31.14  259.23       510.0   \n",
       "11372  2022-07-18 23:20  25.04  260.46  212.86  31.14  260.46       492.0   \n",
       "11373  2022-07-18 23:30  25.04  259.37  212.86  31.14  259.37       475.0   \n",
       "11374  2022-07-18 23:40  25.04  259.13  212.86  31.14  259.13       458.0   \n",
       "11375  2022-07-18 23:50  25.04  258.16  212.86  31.14  258.16       442.0   \n",
       "\n",
       "       wl_1018662  fw_1018662  wl_1018680  fw_1018680  wl_1018683  fw_1018683  \\\n",
       "0           290.7      337.64       284.2         NaN       279.0        0.00   \n",
       "1           291.7      343.69       284.2         NaN       279.0      145.14   \n",
       "2           290.7      337.64       284.2         NaN       279.0      232.22   \n",
       "3           289.7      331.65       284.2         NaN       279.0      302.71   \n",
       "4           287.7      319.84       284.2         NaN       279.0      340.03   \n",
       "...           ...         ...         ...         ...         ...         ...   \n",
       "11371         0.0      319.84         0.0         NaN         0.0     -456.41   \n",
       "11372         0.0      314.01         0.0         NaN         0.0     -717.30   \n",
       "11373         0.0      387.55         0.0         NaN         0.0     -843.37   \n",
       "11374         0.0      454.91         0.0         NaN         0.0    -1023.37   \n",
       "11375         0.0      582.21         0.0         NaN         0.0    -1049.44   \n",
       "\n",
       "       wl_1019630  fw_1019630  \n",
       "0           269.3      471.08  \n",
       "1           266.3      438.33  \n",
       "2           264.3      417.17  \n",
       "3           263.3      406.79  \n",
       "4           264.3      417.17  \n",
       "...           ...         ...  \n",
       "11371         0.0      974.40  \n",
       "11372         0.0     1006.88  \n",
       "11373         0.0     1039.90  \n",
       "11374         0.0     1073.46  \n",
       "11375         0.0     1090.45  \n",
       "\n",
       "[11376 rows x 15 columns]"
      ]
     },
     "metadata": {},
     "output_type": "display_data"
    }
   ],
   "source": [
    "# Check most recent water level data\n",
    "pd.read_csv(wl_data_list[-1])"
   ]
  },
  {
   "cell_type": "code",
   "execution_count": null,
   "metadata": {},
   "outputs": [],
   "source": [
    "# Concat whole water level data\n",
    "df_wl_all = pd.concat([to_datetime_format(pd.read_csv(path), as_index=True) for path in wl_data_list], axis=0)"
   ]
  },
  {
   "cell_type": "markdown",
   "metadata": {},
   "source": [
    "### Load rainfall data"
   ]
  },
  {
   "cell_type": "code",
   "execution_count": null,
   "metadata": {},
   "outputs": [
    {
     "data": {
      "text/plain": [
       "['C:/Everydata/competition_data/rf_data\\\\rf_2012.csv',\n",
       " 'C:/Everydata/competition_data/rf_data\\\\rf_2013.csv',\n",
       " 'C:/Everydata/competition_data/rf_data\\\\rf_2014.csv',\n",
       " 'C:/Everydata/competition_data/rf_data\\\\rf_2015.csv',\n",
       " 'C:/Everydata/competition_data/rf_data\\\\rf_2016.csv',\n",
       " 'C:/Everydata/competition_data/rf_data\\\\rf_2017.csv',\n",
       " 'C:/Everydata/competition_data/rf_data\\\\rf_2018.csv',\n",
       " 'C:/Everydata/competition_data/rf_data\\\\rf_2019.csv',\n",
       " 'C:/Everydata/competition_data/rf_data\\\\rf_2020.csv',\n",
       " 'C:/Everydata/competition_data/rf_data\\\\rf_2021.csv',\n",
       " 'C:/Everydata/competition_data/rf_data\\\\rf_2022.csv']"
      ]
     },
     "metadata": {},
     "output_type": "display_data"
    }
   ],
   "source": [
    "# Get rainfall data list\n",
    "rf_data_list = sorted(glob(\"C:/Everydata/competition_data/rf_data/*.csv\"))\n",
    "rf_data_list"
   ]
  },
  {
   "cell_type": "code",
   "execution_count": null,
   "metadata": {},
   "outputs": [
    {
     "name": "stdout",
     "output_type": "stream",
     "text": [
      "<class 'pandas.core.frame.DataFrame'>\n",
      "RangeIndex: 26496 entries, 0 to 26495\n",
      "Data columns (total 4 columns):\n",
      " #   Column       Non-Null Count  Dtype  \n",
      "---  ------       --------------  -----  \n",
      " 0   ymdhm        26496 non-null  object \n",
      " 1   rf_10184100  26496 non-null  float64\n",
      " 2   rf_10184110  26496 non-null  float64\n",
      " 3   rf_10184140  26496 non-null  float64\n",
      "dtypes: float64(3), object(1)\n",
      "memory usage: 828.1+ KB\n"
     ]
    }
   ],
   "source": [
    "# check rainfall data\n",
    "pd.read_csv(rf_data_list[0]).info()"
   ]
  },
  {
   "cell_type": "code",
   "execution_count": null,
   "metadata": {},
   "outputs": [
    {
     "data": {
      "text/html": [
       "<div>\n",
       "<style scoped>\n",
       "    .dataframe tbody tr th:only-of-type {\n",
       "        vertical-align: middle;\n",
       "    }\n",
       "\n",
       "    .dataframe tbody tr th {\n",
       "        vertical-align: top;\n",
       "    }\n",
       "\n",
       "    .dataframe thead th {\n",
       "        text-align: right;\n",
       "    }\n",
       "</style>\n",
       "<table border=\"1\" class=\"dataframe\">\n",
       "  <thead>\n",
       "    <tr style=\"text-align: right;\">\n",
       "      <th></th>\n",
       "      <th>ymdhm</th>\n",
       "      <th>rf_10184100</th>\n",
       "      <th>rf_10184110</th>\n",
       "      <th>rf_10184140</th>\n",
       "    </tr>\n",
       "  </thead>\n",
       "  <tbody>\n",
       "    <tr>\n",
       "      <th>0</th>\n",
       "      <td>2022-05-01 00:00</td>\n",
       "      <td>0.0</td>\n",
       "      <td>0.0</td>\n",
       "      <td>0.0</td>\n",
       "    </tr>\n",
       "    <tr>\n",
       "      <th>1</th>\n",
       "      <td>2022-05-01 00:10</td>\n",
       "      <td>0.0</td>\n",
       "      <td>0.0</td>\n",
       "      <td>0.0</td>\n",
       "    </tr>\n",
       "    <tr>\n",
       "      <th>2</th>\n",
       "      <td>2022-05-01 00:20</td>\n",
       "      <td>0.0</td>\n",
       "      <td>0.0</td>\n",
       "      <td>0.0</td>\n",
       "    </tr>\n",
       "    <tr>\n",
       "      <th>3</th>\n",
       "      <td>2022-05-01 00:30</td>\n",
       "      <td>0.0</td>\n",
       "      <td>0.0</td>\n",
       "      <td>0.0</td>\n",
       "    </tr>\n",
       "    <tr>\n",
       "      <th>4</th>\n",
       "      <td>2022-05-01 00:40</td>\n",
       "      <td>0.0</td>\n",
       "      <td>0.0</td>\n",
       "      <td>0.0</td>\n",
       "    </tr>\n",
       "    <tr>\n",
       "      <th>...</th>\n",
       "      <td>...</td>\n",
       "      <td>...</td>\n",
       "      <td>...</td>\n",
       "      <td>...</td>\n",
       "    </tr>\n",
       "    <tr>\n",
       "      <th>11371</th>\n",
       "      <td>2022-07-18 23:10</td>\n",
       "      <td>0.0</td>\n",
       "      <td>0.0</td>\n",
       "      <td>0.0</td>\n",
       "    </tr>\n",
       "    <tr>\n",
       "      <th>11372</th>\n",
       "      <td>2022-07-18 23:20</td>\n",
       "      <td>0.0</td>\n",
       "      <td>0.0</td>\n",
       "      <td>0.0</td>\n",
       "    </tr>\n",
       "    <tr>\n",
       "      <th>11373</th>\n",
       "      <td>2022-07-18 23:30</td>\n",
       "      <td>0.0</td>\n",
       "      <td>0.0</td>\n",
       "      <td>0.0</td>\n",
       "    </tr>\n",
       "    <tr>\n",
       "      <th>11374</th>\n",
       "      <td>2022-07-18 23:40</td>\n",
       "      <td>0.0</td>\n",
       "      <td>0.0</td>\n",
       "      <td>0.0</td>\n",
       "    </tr>\n",
       "    <tr>\n",
       "      <th>11375</th>\n",
       "      <td>2022-07-18 23:50</td>\n",
       "      <td>0.0</td>\n",
       "      <td>0.0</td>\n",
       "      <td>0.0</td>\n",
       "    </tr>\n",
       "  </tbody>\n",
       "</table>\n",
       "<p>11376 rows × 4 columns</p>\n",
       "</div>"
      ],
      "text/plain": [
       "                  ymdhm  rf_10184100  rf_10184110  rf_10184140\n",
       "0      2022-05-01 00:00          0.0          0.0          0.0\n",
       "1      2022-05-01 00:10          0.0          0.0          0.0\n",
       "2      2022-05-01 00:20          0.0          0.0          0.0\n",
       "3      2022-05-01 00:30          0.0          0.0          0.0\n",
       "4      2022-05-01 00:40          0.0          0.0          0.0\n",
       "...                 ...          ...          ...          ...\n",
       "11371  2022-07-18 23:10          0.0          0.0          0.0\n",
       "11372  2022-07-18 23:20          0.0          0.0          0.0\n",
       "11373  2022-07-18 23:30          0.0          0.0          0.0\n",
       "11374  2022-07-18 23:40          0.0          0.0          0.0\n",
       "11375  2022-07-18 23:50          0.0          0.0          0.0\n",
       "\n",
       "[11376 rows x 4 columns]"
      ]
     },
     "metadata": {},
     "output_type": "display_data"
    }
   ],
   "source": [
    "# Check most recent rainfall data\n",
    "pd.read_csv(rf_data_list[-1])"
   ]
  },
  {
   "cell_type": "code",
   "execution_count": null,
   "metadata": {},
   "outputs": [],
   "source": [
    "# Concat whole rainfall data\n",
    "df_rf_all = pd.concat([to_datetime_format(pd.read_csv(path), as_index=True) for path in rf_data_list], axis=0)"
   ]
  },
  {
   "cell_type": "markdown",
   "metadata": {},
   "source": [
    "# Preprocessing & Visualization"
   ]
  },
  {
   "cell_type": "markdown",
   "metadata": {},
   "source": [
    "### Simple missing check for water level data"
   ]
  },
  {
   "cell_type": "code",
   "execution_count": null,
   "metadata": {},
   "outputs": [],
   "source": [
    "# Replace value from 0 to None in the target columns\n",
    "df_wl_all[tgt_col] = df_wl_all[tgt_col].replace({0:None})\n",
    "\n",
    "# Divide water data by date\n",
    "df_wl = df_wl_all[df_wl_all.index < pd.to_datetime('2022-06-01')]\n",
    "df_wl_fut = df_wl_all[df_wl_all.index >= pd.to_datetime('2022-06-01')]\n",
    "\n",
    "# Get target columns in the train time line\n",
    "df_tgt_past = df_wl[tgt_col]"
   ]
  },
  {
   "cell_type": "code",
   "execution_count": null,
   "metadata": {},
   "outputs": [
    {
     "name": "stdout",
     "output_type": "stream",
     "text": [
      "<class 'pandas.core.frame.DataFrame'>\n",
      "DatetimeIndex: 269424 entries, 2012-05-01 00:00:00 to 2022-05-31 23:50:00\n",
      "Data columns (total 14 columns):\n",
      " #   Column      Non-Null Count   Dtype  \n",
      "---  ------      --------------   -----  \n",
      " 0   swl         268717 non-null  float64\n",
      " 1   inf         268717 non-null  float64\n",
      " 2   sfw         268717 non-null  float64\n",
      " 3   ecpc        268717 non-null  float64\n",
      " 4   tototf      268717 non-null  float64\n",
      " 5   tide_level  264501 non-null  float64\n",
      " 6   wl_1018662  269365 non-null  object \n",
      " 7   fw_1018662  254260 non-null  float64\n",
      " 8   wl_1018680  269365 non-null  object \n",
      " 9   fw_1018680  79487 non-null   float64\n",
      " 10  wl_1018683  269365 non-null  object \n",
      " 11  fw_1018683  268145 non-null  float64\n",
      " 12  wl_1019630  269365 non-null  object \n",
      " 13  fw_1019630  269365 non-null  float64\n",
      "dtypes: float64(10), object(4)\n",
      "memory usage: 30.8+ MB\n"
     ]
    },
    {
     "data": {
      "image/png": "[encoded data removed]",
      "text/plain": [
       "<Figure size 1800x720 with 2 Axes>"
      ]
     },
     "metadata": {},
     "output_type": "display_data"
    }
   ],
   "source": [
    "# Water level data except test time missing check\n",
    "msno.matrix(df_wl)\n",
    "df_wl.info()"
   ]
  },
  {
   "cell_type": "code",
   "execution_count": null,
   "metadata": {},
   "outputs": [
    {
     "name": "stdout",
     "output_type": "stream",
     "text": [
      "<class 'pandas.core.frame.DataFrame'>\n",
      "DatetimeIndex: 6912 entries, 2022-06-01 00:00:00 to 2022-07-18 23:50:00\n",
      "Data columns (total 14 columns):\n",
      " #   Column      Non-Null Count  Dtype  \n",
      "---  ------      --------------  -----  \n",
      " 0   swl         6876 non-null   float64\n",
      " 1   inf         6876 non-null   float64\n",
      " 2   sfw         6876 non-null   float64\n",
      " 3   ecpc        6876 non-null   float64\n",
      " 4   tototf      6876 non-null   float64\n",
      " 5   tide_level  6908 non-null   float64\n",
      " 6   wl_1018662  0 non-null      object \n",
      " 7   fw_1018662  5696 non-null   float64\n",
      " 8   wl_1018680  0 non-null      object \n",
      " 9   fw_1018680  0 non-null      float64\n",
      " 10  wl_1018683  0 non-null      object \n",
      " 11  fw_1018683  6912 non-null   float64\n",
      " 12  wl_1019630  0 non-null      object \n",
      " 13  fw_1019630  6912 non-null   float64\n",
      "dtypes: float64(10), object(4)\n",
      "memory usage: 810.0+ KB\n"
     ]
    },
    {
     "data": {
      "image/png": "[encoded data removed]",
      "text/plain": [
       "<Figure size 1800x720 with 2 Axes>"
      ]
     },
     "metadata": {},
     "output_type": "display_data"
    }
   ],
   "source": [
    "# Water level future dataset missing check\n",
    "msno.matrix(df_wl_fut)\n",
    "df_wl_fut.info()"
   ]
  },
  {
   "cell_type": "markdown",
   "metadata": {},
   "source": [
    "### Simple missing check for rainfall data"
   ]
  },
  {
   "cell_type": "code",
   "execution_count": null,
   "metadata": {},
   "outputs": [],
   "source": [
    "# Divide water data by date\n",
    "df_rf = df_rf_all[df_rf_all.index < pd.to_datetime('2022-06-01')]\n",
    "df_rf_fut = df_wl_all[df_rf_all.index >= pd.to_datetime('2022-06-01')]"
   ]
  },
  {
   "cell_type": "code",
   "execution_count": null,
   "metadata": {},
   "outputs": [
    {
     "name": "stdout",
     "output_type": "stream",
     "text": [
      "<class 'pandas.core.frame.DataFrame'>\n",
      "DatetimeIndex: 269424 entries, 2012-05-01 00:00:00 to 2022-05-31 23:50:00\n",
      "Data columns (total 3 columns):\n",
      " #   Column       Non-Null Count   Dtype  \n",
      "---  ------       --------------   -----  \n",
      " 0   rf_10184100  269424 non-null  float64\n",
      " 1   rf_10184110  269424 non-null  float64\n",
      " 2   rf_10184140  269424 non-null  float64\n",
      "dtypes: float64(3)\n",
      "memory usage: 8.2 MB\n"
     ]
    },
    {
     "data": {
      "image/png": "[encoded data removed]",
      "text/plain": [
       "<Figure size 1800x720 with 2 Axes>"
      ]
     },
     "metadata": {},
     "output_type": "display_data"
    }
   ],
   "source": [
    "# Rainfall data except test time missing check\n",
    "msno.matrix(df_rf)\n",
    "df_rf.info()"
   ]
  },
  {
   "cell_type": "code",
   "execution_count": null,
   "metadata": {},
   "outputs": [],
   "source": []
  }
 ],
 "metadata": {
  "interpreter": {
   "hash": "31dde777464d70dac64bd1bfafa6d235c8a9b747539918258a634df86e98509d"
  },
  "kernelspec": {
   "display_name": "Python 3.9.7 ('sklearnR')",
   "language": "python",
   "name": "python3"
  },
  "language_info": {
   "codemirror_mode": {
    "name": "ipython",
    "version": 3
   },
   "file_extension": ".py",
   "mimetype": "text/x-python",
   "name": "python",
   "nbconvert_exporter": "python",
   "pygments_lexer": "ipython3",
   "version": "3.9.7"
  },
  "orig_nbformat": 4
 },
 "nbformat": 4,
 "nbformat_minor": 2
}
